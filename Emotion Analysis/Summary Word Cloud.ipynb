{
 "cells": [
  {
   "cell_type": "code",
   "execution_count": 1,
   "metadata": {},
   "outputs": [],
   "source": [
    "from wordcloud import WordCloud, STOPWORDS\n",
    "import matplotlib.pyplot as plt\n",
    "%matplotlib inline\n",
    "\n",
    "import os"
   ]
  },
  {
   "cell_type": "code",
   "execution_count": 2,
   "metadata": {},
   "outputs": [],
   "source": [
    "import pandas as pd\n",
    "import numpy as np"
   ]
  },
  {
   "cell_type": "code",
   "execution_count": 3,
   "metadata": {},
   "outputs": [],
   "source": [
    "OCC = pd.read_excel('Final_Summary_OCC.xlsx')\n",
    "CFPB = pd.read_excel('Final_Summary_CFPB.xlsx')"
   ]
  },
  {
   "cell_type": "code",
   "execution_count": 4,
   "metadata": {},
   "outputs": [],
   "source": [
    "occ_summary = OCC[['Summary']].dropna()\n",
    "cfpb_summary = CFPB[['Summary']].dropna()"
   ]
  },
  {
   "cell_type": "code",
   "execution_count": 5,
   "metadata": {},
   "outputs": [
    {
     "data": {
      "text/plain": [
       "371"
      ]
     },
     "execution_count": 5,
     "metadata": {},
     "output_type": "execute_result"
    }
   ],
   "source": [
    "len(occ_summary) + len(cfpb_summary)"
   ]
  },
  {
   "cell_type": "code",
   "execution_count": 6,
   "metadata": {},
   "outputs": [],
   "source": [
    "all_occ_summary = ''.join(list(occ_summary['Summary']))\n",
    "all_cfpb_summary = ''.join(list(cfpb_summary['Summary']))"
   ]
  },
  {
   "cell_type": "code",
   "execution_count": 126,
   "metadata": {},
   "outputs": [],
   "source": [
    "MIN_LENGTH = 3\n",
    "DELETE_WORDS = ['rule', 'act', 'OCC', 'proposed', \n",
    "                'rules', 'final', '(occ)', 'occ', \n",
    "                'certain', 'consumer', 'federal', \n",
    "                'bureau', 'protection', 'board', \n",
    "                'agencies', 'regulations', 'office', \n",
    "                'proposing', 'section', 'regulation', \n",
    "                'system', 'comment', 'proposal', 'banks', \n",
    "                'national', 'currency', 'comptroller', 'based', \n",
    "                'bank', 'agencies)', 'institutions', 'will', \n",
    "                '(collectively', 'notice', 'market', 'changes', \n",
    "                'new', '(bureau)', 'issued', 'act)', 'provide',\n",
    "                'make', 'covered', \"agencies'\", 'organizations',\n",
    "                'use', 'required', 'billion', 'program', 'regarding', \n",
    "                'total', 'institution', 'consumers', 'companies', \n",
    "               ]"
   ]
  },
  {
   "cell_type": "code",
   "execution_count": 143,
   "metadata": {},
   "outputs": [],
   "source": [
    "# STOPWORDS"
   ]
  },
  {
   "cell_type": "code",
   "execution_count": 127,
   "metadata": {},
   "outputs": [],
   "source": [
    "Text = all_occ_summary + all_cfpb_summary"
   ]
  },
  {
   "cell_type": "code",
   "execution_count": 128,
   "metadata": {},
   "outputs": [],
   "source": [
    "# Cleaning text and lower casing all words\n",
    "for char in '-.,\\n':\n",
    "    Text=Text.replace(char,' ')\n",
    "Text = Text.lower()\n",
    "# split returns a list of words delimited by sequences of whitespace (including tabs, newlines, etc, like re's \\s) \n",
    "word_list = Text.split()"
   ]
  },
  {
   "cell_type": "code",
   "execution_count": 129,
   "metadata": {},
   "outputs": [],
   "source": [
    "final_list = []\n",
    "for word in word_list:\n",
    "    if (word in STOPWORDS) or (word in DELETE_WORDS) or len(word) < MIN_LENGTH:\n",
    "        continue\n",
    "    final_list.append(word)"
   ]
  },
  {
   "cell_type": "code",
   "execution_count": 130,
   "metadata": {},
   "outputs": [],
   "source": [
    "from collections import Counter\n",
    "most_mentioned_concept = Counter(final_list).most_common()"
   ]
  },
  {
   "cell_type": "code",
   "execution_count": 133,
   "metadata": {},
   "outputs": [],
   "source": [
    "res = []\n",
    "for _ in most_mentioned_concept:\n",
    "    res.append(list(_))"
   ]
  },
  {
   "cell_type": "code",
   "execution_count": 137,
   "metadata": {},
   "outputs": [],
   "source": [
    "df = pd.DataFrame(res, columns = ['word', 'frequency'])"
   ]
  },
  {
   "cell_type": "code",
   "execution_count": 138,
   "metadata": {},
   "outputs": [],
   "source": [
    "df.to_excel('Summary_word_frequency.xlsx')"
   ]
  },
  {
   "cell_type": "code",
   "execution_count": 125,
   "metadata": {},
   "outputs": [],
   "source": [
    "# texts = [all_occ_summary, all_cfpb_summary, all_occ_summary + all_cfpb_summary]"
   ]
  },
  {
   "cell_type": "code",
   "execution_count": 124,
   "metadata": {},
   "outputs": [],
   "source": [
    "\n",
    "# def remove_words(text_string,DELETE_WORDS=DELETE_WORDS):\n",
    "#     for word in DELETE_WORDS:\n",
    "#         text_string = text_string.replace(word,' ')\n",
    "#     return text_string\n",
    "\n",
    "# #Remove short words\n",
    "# def remove_short_words(text_string,min_length = MIN_LENGTH):\n",
    "#     word_list = text_string.split()\n",
    "#     for word in word_list:\n",
    "#         if len(word) < min_length:\n",
    "#             text_string = text_string.replace(' '+word+' ',' ',1)\n",
    "#     return text_string\n",
    "\n",
    "\n",
    "# #Set up side by side clouds\n",
    "# COL_NUM = 3\n",
    "# ROW_NUM = 1\n",
    "# fig, axes = plt.subplots(ROW_NUM, COL_NUM, figsize=(18,12))\n",
    "\n",
    "# for i in range(0,len(texts)):\n",
    "#     text_string = remove_words(texts[i][1])\n",
    "#     text_string = remove_short_words(text_string)\n",
    "#     ax = axes[i] \n",
    "#     ax.set_title(texts[i][0])\n",
    "#     wordcloud = WordCloud(stopwords=STOPWORDS,background_color='white',width=1200,height=1000,max_words=20).generate(text_string)\n",
    "#     ax.imshow(wordcloud)\n",
    "#     ax.axis('off')\n",
    "# plt.show()"
   ]
  },
  {
   "cell_type": "code",
   "execution_count": null,
   "metadata": {},
   "outputs": [],
   "source": []
  }
 ],
 "metadata": {
  "kernelspec": {
   "display_name": "Python 3",
   "language": "python",
   "name": "python3"
  },
  "language_info": {
   "codemirror_mode": {
    "name": "ipython",
    "version": 3
   },
   "file_extension": ".py",
   "mimetype": "text/x-python",
   "name": "python",
   "nbconvert_exporter": "python",
   "pygments_lexer": "ipython3",
   "version": "3.7.6"
  }
 },
 "nbformat": 4,
 "nbformat_minor": 4
}
